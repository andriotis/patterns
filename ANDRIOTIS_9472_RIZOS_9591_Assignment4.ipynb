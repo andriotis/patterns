{
 "cells": [
  {
   "cell_type": "code",
   "execution_count": 41,
   "metadata": {},
   "outputs": [],
   "source": [
    "import numpy as np\n",
    "import pandas as pd\n",
    "import matplotlib.pyplot as plt\n",
    "from lazypredict.Supervised import LazyClassifier\n",
    "from sklearn.model_selection import train_test_split\n",
    "from sklearn.pipeline import make_pipeline\n",
    "from sklearn.preprocessing import StandardScaler\n",
    "from sklearn.naive_bayes import *\n",
    "from sklearn.svm import SVC, NuSVC"
   ]
  },
  {
   "cell_type": "code",
   "execution_count": 85,
   "metadata": {},
   "outputs": [],
   "source": [
    "df = pd.read_csv('Dataset.csv', names=['x', 'y', 'target'])\n",
    "X, y = df[['x', 'y']], df[['target']]\n",
    "X_train, X_test, y_train, y_test = train_test_split(X,y, test_size=0.2)"
   ]
  },
  {
   "cell_type": "code",
   "execution_count": 104,
   "metadata": {},
   "outputs": [
    {
     "data": {
      "text/html": [
       "<div>\n",
       "<style scoped>\n",
       "    .dataframe tbody tr th:only-of-type {\n",
       "        vertical-align: middle;\n",
       "    }\n",
       "\n",
       "    .dataframe tbody tr th {\n",
       "        vertical-align: top;\n",
       "    }\n",
       "\n",
       "    .dataframe thead th {\n",
       "        text-align: right;\n",
       "    }\n",
       "</style>\n",
       "<table border=\"1\" class=\"dataframe\">\n",
       "  <thead>\n",
       "    <tr style=\"text-align: right;\">\n",
       "      <th></th>\n",
       "      <th>x</th>\n",
       "      <th>y</th>\n",
       "      <th>target</th>\n",
       "    </tr>\n",
       "  </thead>\n",
       "  <tbody>\n",
       "    <tr>\n",
       "      <th>0</th>\n",
       "      <td>6.11</td>\n",
       "      <td>9.40</td>\n",
       "      <td>0</td>\n",
       "    </tr>\n",
       "    <tr>\n",
       "      <th>1</th>\n",
       "      <td>3.80</td>\n",
       "      <td>4.40</td>\n",
       "      <td>0</td>\n",
       "    </tr>\n",
       "    <tr>\n",
       "      <th>2</th>\n",
       "      <td>4.94</td>\n",
       "      <td>8.02</td>\n",
       "      <td>0</td>\n",
       "    </tr>\n",
       "    <tr>\n",
       "      <th>3</th>\n",
       "      <td>3.95</td>\n",
       "      <td>5.62</td>\n",
       "      <td>0</td>\n",
       "    </tr>\n",
       "    <tr>\n",
       "      <th>4</th>\n",
       "      <td>5.11</td>\n",
       "      <td>8.74</td>\n",
       "      <td>0</td>\n",
       "    </tr>\n",
       "    <tr>\n",
       "      <th>5</th>\n",
       "      <td>3.38</td>\n",
       "      <td>5.53</td>\n",
       "      <td>0</td>\n",
       "    </tr>\n",
       "    <tr>\n",
       "      <th>6</th>\n",
       "      <td>4.08</td>\n",
       "      <td>6.47</td>\n",
       "      <td>0</td>\n",
       "    </tr>\n",
       "    <tr>\n",
       "      <th>7</th>\n",
       "      <td>3.58</td>\n",
       "      <td>4.59</td>\n",
       "      <td>0</td>\n",
       "    </tr>\n",
       "    <tr>\n",
       "      <th>8</th>\n",
       "      <td>4.78</td>\n",
       "      <td>6.77</td>\n",
       "      <td>0</td>\n",
       "    </tr>\n",
       "    <tr>\n",
       "      <th>9</th>\n",
       "      <td>4.11</td>\n",
       "      <td>4.75</td>\n",
       "      <td>0</td>\n",
       "    </tr>\n",
       "  </tbody>\n",
       "</table>\n",
       "</div>"
      ],
      "text/plain": [
       "     x    y  target\n",
       "0 6.11 9.40       0\n",
       "1 3.80 4.40       0\n",
       "2 4.94 8.02       0\n",
       "3 3.95 5.62       0\n",
       "4 5.11 8.74       0\n",
       "5 3.38 5.53       0\n",
       "6 4.08 6.47       0\n",
       "7 3.58 4.59       0\n",
       "8 4.78 6.77       0\n",
       "9 4.11 4.75       0"
      ]
     },
     "execution_count": 104,
     "metadata": {},
     "output_type": "execute_result"
    }
   ],
   "source": [
    "df.head(10)"
   ]
  },
  {
   "cell_type": "code",
   "execution_count": 86,
   "metadata": {},
   "outputs": [
    {
     "name": "stderr",
     "output_type": "stream",
     "text": [
      "100%|██████████| 29/29 [00:07<00:00,  4.12it/s]"
     ]
    },
    {
     "name": "stdout",
     "output_type": "stream",
     "text": [
      "                               Accuracy  Balanced Accuracy  ROC AUC  F1 Score  \\\n",
      "Model                                                                           \n",
      "QuadraticDiscriminantAnalysis      0.84               0.84     0.84      0.84   \n",
      "SVC                                0.84               0.84     0.84      0.84   \n",
      "LabelSpreading                     0.83               0.83     0.83      0.83   \n",
      "NuSVC                              0.82               0.82     0.82      0.82   \n",
      "SGDClassifier                      0.83               0.82     0.82      0.83   \n",
      "LabelPropagation                   0.82               0.82     0.82      0.82   \n",
      "RandomForestClassifier             0.80               0.80     0.80      0.80   \n",
      "CalibratedClassifierCV             0.79               0.79     0.79      0.79   \n",
      "LogisticRegression                 0.79               0.79     0.79      0.79   \n",
      "RidgeClassifierCV                  0.79               0.79     0.79      0.79   \n",
      "RidgeClassifier                    0.79               0.79     0.79      0.79   \n",
      "LinearDiscriminantAnalysis         0.79               0.79     0.79      0.79   \n",
      "LinearSVC                          0.79               0.79     0.79      0.79   \n",
      "NearestCentroid                    0.79               0.79     0.79      0.79   \n",
      "GaussianNB                         0.78               0.78     0.78      0.78   \n",
      "BaggingClassifier                  0.78               0.77     0.77      0.77   \n",
      "AdaBoostClassifier                 0.76               0.76     0.76      0.76   \n",
      "Perceptron                         0.77               0.76     0.76      0.75   \n",
      "KNeighborsClassifier               0.76               0.76     0.76      0.76   \n",
      "PassiveAggressiveClassifier        0.76               0.75     0.75      0.74   \n",
      "ExtraTreesClassifier               0.75               0.75     0.75      0.75   \n",
      "LGBMClassifier                     0.73               0.73     0.73      0.73   \n",
      "XGBClassifier                      0.72               0.73     0.73      0.73   \n",
      "DecisionTreeClassifier             0.72               0.72     0.72      0.72   \n",
      "ExtraTreeClassifier                0.71               0.71     0.71      0.71   \n",
      "BernoulliNB                        0.63               0.65     0.65      0.59   \n",
      "DummyClassifier                    0.47               0.50     0.50      0.31   \n",
      "\n",
      "                               Time Taken  \n",
      "Model                                      \n",
      "QuadraticDiscriminantAnalysis        0.02  \n",
      "SVC                                  0.03  \n",
      "LabelSpreading                       0.06  \n",
      "NuSVC                                0.04  \n",
      "SGDClassifier                        0.02  \n",
      "LabelPropagation                     0.04  \n",
      "RandomForestClassifier               0.29  \n",
      "CalibratedClassifierCV               0.11  \n",
      "LogisticRegression                   0.03  \n",
      "RidgeClassifierCV                    0.02  \n",
      "RidgeClassifier                      0.02  \n",
      "LinearDiscriminantAnalysis           0.04  \n",
      "LinearSVC                            0.04  \n",
      "NearestCentroid                      0.02  \n",
      "GaussianNB                           0.02  \n",
      "BaggingClassifier                    0.09  \n",
      "AdaBoostClassifier                   0.20  \n",
      "Perceptron                           0.02  \n",
      "KNeighborsClassifier                 0.03  \n",
      "PassiveAggressiveClassifier          0.02  \n",
      "ExtraTreesClassifier                 0.23  \n",
      "LGBMClassifier                       1.83  \n",
      "XGBClassifier                        3.71  \n",
      "DecisionTreeClassifier               0.03  \n",
      "ExtraTreeClassifier                  0.03  \n",
      "BernoulliNB                          0.02  \n",
      "DummyClassifier                      0.02  \n"
     ]
    },
    {
     "name": "stderr",
     "output_type": "stream",
     "text": [
      "\n"
     ]
    }
   ],
   "source": [
    "clf = LazyClassifier(verbose=0, ignore_warnings=True, custom_metric=None)\n",
    "models, predictions = clf.fit(X_train, X_test, y_train, y_test)\n",
    "\n",
    "print(models)"
   ]
  },
  {
   "cell_type": "code",
   "execution_count": 87,
   "metadata": {},
   "outputs": [
    {
     "data": {
      "image/png": "[encoded data removed]",
      "text/plain": [
       "<Figure size 640x480 with 1 Axes>"
      ]
     },
     "metadata": {},
     "output_type": "display_data"
    }
   ],
   "source": [
    "plt.scatter(df[df['target'] == 0]['x'],df[df['target'] == 0]['y'])\n",
    "plt.scatter(df[df['target'] == 1]['x'],df[df['target'] == 1]['y'])\n",
    "plt.show()"
   ]
  },
  {
   "cell_type": "code",
   "execution_count": 102,
   "metadata": {},
   "outputs": [
    {
     "data": {
      "text/plain": [
       "0.85"
      ]
     },
     "execution_count": 102,
     "metadata": {},
     "output_type": "execute_result"
    }
   ],
   "source": [
    "from sklearn.discriminant_analysis import QuadraticDiscriminantAnalysis\n",
    "from sklearn.svm import SVC, NuSVC\n",
    "from sklearn.semi_supervised import LabelSpreading, LabelPropagation\n",
    "from sklearn.linear_model import SGDClassifier\n",
    "from sklearn.ensemble import VotingClassifier\n",
    "\n",
    "estimators = [('QuadraticDiscriminantAnalysis', QuadraticDiscriminantAnalysis()),\n",
    "              ('SVC', SVC()),\n",
    "              ('NuSVC', NuSVC()),\n",
    "              ('LabelSpreading', LabelSpreading()),\n",
    "              ('LabelPropagation', LabelPropagation())\n",
    "              ]\n",
    "\n",
    "eclf = VotingClassifier(estimators=estimators, voting='hard')\n",
    "\n",
    "eclf.fit(X_train, y_train)\n",
    "eclf.score(X_test, y_test)"
   ]
  },
  {
   "cell_type": "code",
   "execution_count": 105,
   "metadata": {},
   "outputs": [],
   "source": [
    "from sklearn import *"
   ]
  },
  {
   "cell_type": "code",
   "execution_count": 117,
   "metadata": {},
   "outputs": [
    {
     "data": {
      "text/plain": [
       "0.7625"
      ]
     },
     "execution_count": 117,
     "metadata": {},
     "output_type": "execute_result"
    }
   ],
   "source": [
    "clf = ensemble.AdaBoostClassifier()\n",
    "clf.fit(X_train, y_train)\n",
    "clf.score(X_test, y_test)"
   ]
  }
 ],
 "metadata": {
  "kernelspec": {
   "display_name": "ml",
   "language": "python",
   "name": "python3"
  },
  "language_info": {
   "codemirror_mode": {
    "name": "ipython",
    "version": 3
   },
   "file_extension": ".py",
   "mimetype": "text/x-python",
   "name": "python",
   "nbconvert_exporter": "python",
   "pygments_lexer": "ipython3",
   "version": "3.10.8 (main, Nov 24 2022, 14:13:03) [GCC 11.2.0]"
  },
  "orig_nbformat": 4,
  "vscode": {
   "interpreter": {
    "hash": "976019bd7028fad645a45aaa2b51f9e68e9bcad9b4e9047d93bf7b882332665b"
   }
  }
 },
 "nbformat": 4,
 "nbformat_minor": 2
}
